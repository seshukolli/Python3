{
 "cells": [
  {
   "cell_type": "code",
   "execution_count": 1,
   "metadata": {},
   "outputs": [
    {
     "ename": "SyntaxError",
     "evalue": "invalid syntax (<ipython-input-1-59ad1b9aea41>, line 16)",
     "output_type": "error",
     "traceback": [
      "\u001b[1;36m  File \u001b[1;32m\"<ipython-input-1-59ad1b9aea41>\"\u001b[1;36m, line \u001b[1;32m16\u001b[0m\n\u001b[1;33m    c=m ax(c)\u001b[0m\n\u001b[1;37m         ^\u001b[0m\n\u001b[1;31mSyntaxError\u001b[0m\u001b[1;31m:\u001b[0m invalid syntax\n"
     ]
    }
   ],
   "source": [
    "while(1):\n",
    "    n=[int(x) for x in input().split()]\n",
    "    c=[]\n",
    "    x=n[0]\n",
    "    y=n[1]\n",
    "    count=1\n",
    "    for i in range(x,y+1):\n",
    "        while(i!=1):\n",
    "            if(i%2!=0):\n",
    "                i=3*i+1\n",
    "            elif(i%2==0):\n",
    "                i=i/2\n",
    "            count+=1\n",
    "            c.append(count)\n",
    "        count=1\n",
    "    c=m ax(c)\n",
    "    print(x ,y , c)"
   ]
  },
  {
   "cell_type": "code",
   "execution_count": 10,
   "metadata": {},
   "outputs": [
    {
     "name": "stdout",
     "output_type": "stream",
     "text": [
      "28\n",
      "6\n"
     ]
    }
   ],
   "source": [
    "# money change\n",
    "\n",
    "n=int(input())\n",
    "i,count=0,0\n",
    "while(i!=n):\n",
    "    z=n-i\n",
    "    if(z>=10):\n",
    "        i=i+10\n",
    "    elif(z>=5):\n",
    "        i=i+5\n",
    "    elif(z>=1):\n",
    "        i=i+1\n",
    "    count+=1\n",
    "print(count)"
   ]
  },
  {
   "cell_type": "code",
   "execution_count": null,
   "metadata": {},
   "outputs": [],
   "source": []
  }
 ],
 "metadata": {
  "kernelspec": {
   "display_name": "Python 3",
   "language": "python",
   "name": "python3"
  },
  "language_info": {
   "codemirror_mode": {
    "name": "ipython",
    "version": 3
   },
   "file_extension": ".py",
   "mimetype": "text/x-python",
   "name": "python",
   "nbconvert_exporter": "python",
   "pygments_lexer": "ipython3",
   "version": "3.7.4"
  }
 },
 "nbformat": 4,
 "nbformat_minor": 2
}
