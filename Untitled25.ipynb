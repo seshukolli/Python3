{
 "cells": [
  {
   "cell_type": "code",
   "execution_count": 13,
   "metadata": {},
   "outputs": [
    {
     "name": "stdout",
     "output_type": "stream",
     "text": [
      "}{\n",
      "valid\n"
     ]
    }
   ],
   "source": [
    "n=input()\n",
    "count=count1=count2=0\n",
    "for i in n:\n",
    "    if(i=='{'):\n",
    "        count+=1\n",
    "    elif(i=='}'):\n",
    "        count1+=1\n",
    "if(count==count1):\n",
    "    print('valid')\n",
    "elif(count!=count1):\n",
    "    count2=count-count1\n",
    "    print('invalid',count2)"
   ]
  },
  {
   "cell_type": "code",
   "execution_count": 6,
   "metadata": {},
   "outputs": [
    {
     "name": "stdout",
     "output_type": "stream",
     "text": [
      "5\n",
      "1 2 3  4 4\n",
      "3\n",
      "1 \n",
      "Yes  1\n",
      "4\n",
      "Yes  2\n",
      "5\n",
      "No\n"
     ]
    }
   ],
   "source": [
    "n=int(input())\n",
    "num=[int(x) for x in input().split()]\n",
    "n1=int(input())\n",
    "for i in range(n1):\n",
    "    c=0\n",
    "    n2=int(input())\n",
    "    for j in num:\n",
    "        if(j==n2):\n",
    "            c+=1\n",
    "    if(c==0):\n",
    "        print('No')\n",
    "    else :\n",
    "        print('Yes ',c)\n",
    "\n",
    "\n",
    "    \n",
    "\n",
    "        "
   ]
  },
  {
   "cell_type": "code",
   "execution_count": 11,
   "metadata": {},
   "outputs": [
    {
     "name": "stdout",
     "output_type": "stream",
     "text": [
      "3\n",
      "22 95 9\n",
      "99522"
     ]
    }
   ],
   "source": [
    "n=int(input())\n",
    "l=[int(x) for x in input().split()]\n",
    "for i in range(0,n):\n",
    "    for j in range(i+1,n):\n",
    "        a=int(str(l[i])+str(l[j]))\n",
    "        b=int(str(l[j])+str(l[i]))\n",
    "        if(a<b):\n",
    "            l[i],l[j]=l[j],l[i] \n",
    "for m in l:\n",
    "    print(m,end='')"
   ]
  },
  {
   "cell_type": "code",
   "execution_count": null,
   "metadata": {},
   "outputs": [],
   "source": []
  },
  {
   "cell_type": "code",
   "execution_count": null,
   "metadata": {},
   "outputs": [],
   "source": []
  }
 ],
 "metadata": {
  "kernelspec": {
   "display_name": "Python 3",
   "language": "python",
   "name": "python3"
  },
  "language_info": {
   "codemirror_mode": {
    "name": "ipython",
    "version": 3
   },
   "file_extension": ".py",
   "mimetype": "text/x-python",
   "name": "python",
   "nbconvert_exporter": "python",
   "pygments_lexer": "ipython3",
   "version": "3.7.4"
  }
 },
 "nbformat": 4,
 "nbformat_minor": 2
}
