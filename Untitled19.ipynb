{
 "cells": [
  {
   "cell_type": "code",
   "execution_count": 9,
   "metadata": {},
   "outputs": [
    {
     "name": "stdout",
     "output_type": "stream",
     "text": [
      "20 60\n",
      "60\n"
     ]
    }
   ],
   "source": [
    "n=[int(x) for x in input().split()]\n",
    "n1=n[0]\n",
    "n2=n[1]\n",
    "for i in range(1,n1*n2+1):\n",
    "    if i%n1==0 and i%n2==0:\n",
    "        print(i)\n",
    "        break"
   ]
  },
  {
   "cell_type": "code",
   "execution_count": 13,
   "metadata": {},
   "outputs": [
    {
     "name": "stdout",
     "output_type": "stream",
     "text": [
      "714552 374513\n",
      "170777928\n"
     ]
    }
   ],
   "source": [
    "n=[int(x) for x in input().split()]\n",
    "a=n[0]\n",
    "b=n[1]\n",
    "if(a>b):\n",
    "    min1=a\n",
    "else:\n",
    "    min1=b\n",
    "for i in range(1,min1*min1):\n",
    "    \n",
    "    if min1%a==0 and min1%b==0:\n",
    "        print(min1)\n",
    "        break\n",
    "    min1+=1\n"
   ]
  },
  {
   "cell_type": "code",
   "execution_count": 16,
   "metadata": {},
   "outputs": [
    {
     "name": "stdout",
     "output_type": "stream",
     "text": [
      "10 20\n",
      "20\n"
     ]
    }
   ],
   "source": [
    "n=[int(x) for x in input().split()]\n",
    "x=n[0]\n",
    "y=n[1]\n",
    "mul=x*y\n",
    "if x<y:\n",
    "    x,y=y,x\n",
    "while(y):\n",
    "        gcd=x%y\n",
    "        x,y=y,gcd\n",
    "gcd=x\n",
    "lcm=mul//gcd\n",
    "print(lcm)"
   ]
  },
  {
   "cell_type": "code",
   "execution_count": null,
   "metadata": {},
   "outputs": [],
   "source": []
  }
 ],
 "metadata": {
  "kernelspec": {
   "display_name": "Python 3",
   "language": "python",
   "name": "python3"
  },
  "language_info": {
   "codemirror_mode": {
    "name": "ipython",
    "version": 3
   },
   "file_extension": ".py",
   "mimetype": "text/x-python",
   "name": "python",
   "nbconvert_exporter": "python",
   "pygments_lexer": "ipython3",
   "version": "3.7.4"
  }
 },
 "nbformat": 4,
 "nbformat_minor": 2
}
