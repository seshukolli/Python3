{
 "cells": [
  {
   "cell_type": "code",
   "execution_count": 27,
   "metadata": {},
   "outputs": [
    {
     "ename": "IndentationError",
     "evalue": "unindent does not match any outer indentation level (<tokenize>, line 11)",
     "output_type": "error",
     "traceback": [
      "\u001b[1;36m  File \u001b[1;32m\"<tokenize>\"\u001b[1;36m, line \u001b[1;32m11\u001b[0m\n\u001b[1;33m    elif(n>=20):\u001b[0m\n\u001b[1;37m    ^\u001b[0m\n\u001b[1;31mIndentationError\u001b[0m\u001b[1;31m:\u001b[0m unindent does not match any outer indentation level\n"
     ]
    }
   ],
   "source": [
    "n=int(input())\n",
    "if(1<=n<=100):\n",
    "    if n%2!=0:\n",
    "        print(\"Weird\")\n",
    "    elif(2<=n<=5):\n",
    "        if(n%2==0):\n",
    "             print(\"Not Weird\")\n",
    "        elif(6<=n<20):\n",
    "             if(n%2==0): \n",
    "                    print(\"Weird\")\n",
    "            elif(n>=20):\n",
    "                if(n%2==0):\n",
    "                        print(\"Not Weird\")\n",
    "                \n",
    "         \n",
    "                \n",
    "   \n",
    "                \n",
    "    \n",
    "                    \n",
    "       \n",
    "            \n",
    "            \n",
    "               \n",
    "    \n",
    "        \n",
    "           "
   ]
  },
  {
   "cell_type": "code",
   "execution_count": null,
   "metadata": {},
   "outputs": [],
   "source": []
  }
 ],
 "metadata": {
  "kernelspec": {
   "display_name": "Python 3",
   "language": "python",
   "name": "python3"
  },
  "language_info": {
   "codemirror_mode": {
    "name": "ipython",
    "version": 3
   },
   "file_extension": ".py",
   "mimetype": "text/x-python",
   "name": "python",
   "nbconvert_exporter": "python",
   "pygments_lexer": "ipython3",
   "version": "3.7.4"
  }
 },
 "nbformat": 4,
 "nbformat_minor": 2
}
