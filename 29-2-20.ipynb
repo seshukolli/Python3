{
 "cells": [
  {
   "cell_type": "code",
   "execution_count": 1,
   "metadata": {},
   "outputs": [
    {
     "ename": "IndentationError",
     "evalue": "unexpected indent (<ipython-input-1-17540a02fc96>, line 2)",
     "output_type": "error",
     "traceback": [
      "\u001b[1;36m  File \u001b[1;32m\"<ipython-input-1-17540a02fc96>\"\u001b[1;36m, line \u001b[1;32m2\u001b[0m\n\u001b[1;33m    secretPassword = passwordFile.read()\u001b[0m\n\u001b[1;37m    ^\u001b[0m\n\u001b[1;31mIndentationError\u001b[0m\u001b[1;31m:\u001b[0m unexpected indent\n"
     ]
    }
   ],
   "source": [
    "passwordFile = open('SecretPasswordFile.txt')\n",
    " secretPassword = passwordFile.read()\n",
    "    print('Enter your password.')\n",
    "typedPassword = input()\n",
    " if typedPassword == secretPassword:\n",
    "    print('Access granted')\n",
    "    if typedPassword == '12345':\n",
    "{ print('That password is one that an idiot puts on their luggage.')\n",
    "else:\n",
    "| print('Access denied')"
   ]
  },
  {
   "cell_type": "code",
   "execution_count": null,
   "metadata": {},
   "outputs": [],
   "source": []
  }
 ],
 "metadata": {
  "kernelspec": {
   "display_name": "Python 3",
   "language": "python",
   "name": "python3"
  },
  "language_info": {
   "codemirror_mode": {
    "name": "ipython",
    "version": 3
   },
   "file_extension": ".py",
   "mimetype": "text/x-python",
   "name": "python",
   "nbconvert_exporter": "python",
   "pygments_lexer": "ipython3",
   "version": "3.7.4"
  }
 },
 "nbformat": 4,
 "nbformat_minor": 2
}
