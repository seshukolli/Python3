{
 "cells": [
  {
   "cell_type": "code",
   "execution_count": 6,
   "metadata": {},
   "outputs": [
    {
     "name": "stdout",
     "output_type": "stream",
     "text": [
      "10\n",
      "5.0\n"
     ]
    }
   ],
   "source": [
    "n=int(input())\n",
    "if(n%2!=0):\n",
    "    n=3(n)+1\n",
    "elif(n%2==0):\n",
    "    n=n/2\n",
    "print(n)"
   ]
  },
  {
   "cell_type": "code",
   "execution_count": 32,
   "metadata": {},
   "outputs": [
    {
     "name": "stdout",
     "output_type": "stream",
     "text": [
      "1 10\n",
      "1 10 20\n"
     ]
    }
   ],
   "source": [
    "\n",
    "n=[int(x) for x in input().split()]\n",
    "c=[]\n",
    "x=n[0]\n",
    "y=n[1]\n",
    "count=1\n",
    "for i in range(x,y+1):\n",
    "    while(i!=1):\n",
    "        if(i%2!=0):\n",
    "            i=3*i+1\n",
    "        elif(i%2==0):\n",
    "            i=i/2\n",
    "        count+=1\n",
    "    c.append(count)\n",
    "    count=1\n",
    "c=max(c)\n",
    "print(x ,y , c)"
   ]
  },
  {
   "cell_type": "code",
   "execution_count": null,
   "metadata": {},
   "outputs": [],
   "source": []
  }
 ],
 "metadata": {
  "kernelspec": {
   "display_name": "Python 3",
   "language": "python",
   "name": "python3"
  },
  "language_info": {
   "codemirror_mode": {
    "name": "ipython",
    "version": 3
   },
   "file_extension": ".py",
   "mimetype": "text/x-python",
   "name": "python",
   "nbconvert_exporter": "python",
   "pygments_lexer": "ipython3",
   "version": "3.7.4"
  }
 },
 "nbformat": 4,
 "nbformat_minor": 2
}
