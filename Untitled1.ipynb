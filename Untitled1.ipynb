{
 "cells": [
  {
   "cell_type": "code",
   "execution_count": 2,
   "metadata": {},
   "outputs": [
    {
     "name": "stdout",
     "output_type": "stream",
     "text": [
      "3\n",
      "2\n",
      "enter val1\n",
      "enter val2\n",
      "enter val3\n",
      "enter val4\n",
      "enter val5\n",
      "enter val6\n",
      "1\n",
      "2\n",
      "3\n",
      "4\n",
      "5\n",
      "6\n"
     ]
    }
   ],
   "source": [
    "from numpy import*\n",
    "m=int(input())\n",
    "n=int(input())\n",
    "a=zeros((m,n),dtype=int)\n",
    "u=len(a)\n",
    "for i in range(u):\n",
    "    for j in range(len(a[i])):\n",
    "        x=int(input(\"enter val\"))\n",
    "        a[i][j]=x\n",
    "\n",
    "for i in range(u):\n",
    "    for j in range(len(a[i])):\n",
    "        print(a[i][j])"
   ]
  },
  {
   "cell_type": "code",
   "execution_count": null,
   "metadata": {},
   "outputs": [],
   "source": []
  }
 ],
 "metadata": {
  "kernelspec": {
   "display_name": "Python 3",
   "language": "python",
   "name": "python3"
  },
  "language_info": {
   "codemirror_mode": {
    "name": "ipython",
    "version": 3
   },
   "file_extension": ".py",
   "mimetype": "text/x-python",
   "name": "python",
   "nbconvert_exporter": "python",
   "pygments_lexer": "ipython3",
   "version": "3.7.4"
  }
 },
 "nbformat": 4,
 "nbformat_minor": 2
}
